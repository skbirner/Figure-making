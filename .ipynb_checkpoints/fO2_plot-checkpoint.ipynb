{
 "cells": [
  {
   "cell_type": "code",
   "execution_count": 1,
   "metadata": {},
   "outputs": [],
   "source": [
    "def fO2_plot(ax,x,y,locs,sz,fc,ec):\n",
    "    # requires data to have been loaded with specific load_data function\n",
    "    \n",
    "    if x in D_err: # If value has an x error bar:\n",
    "        err_pos = D_err[x][0]\n",
    "        err_neg = D_err[x][1]\n",
    "        for i,loc in enumerate(locs): # For each location:\n",
    "            ax.errorbar(loc[:,D[x]], loc[:,D[y]], xerr=[loc[:,err_neg], loc[:,err_pos]], linewidth=0, elinewidth=1, color='black',\n",
    "                       zorder=0)\n",
    "            \n",
    "    if y in D_err: # If value has a y error bar:\n",
    "        err_pos = D_err[y][0]\n",
    "        err_neg = D_err[y][1]\n",
    "        for i,loc in enumerate(locs): # For each location:\n",
    "            ax.errorbar(loc[:,D[x]], loc[:,D[y]], yerr=[loc[:,err_neg], loc[:,err_pos]], linewidth=0, elinewidth=1, color='black',\n",
    "                       zorder=0)\n",
    "        \n",
    "    for idx,loc in enumerate(locs):\n",
    "        ax.scatter(loc[:,D[x]], loc[:,D[y]], \n",
    "                   marker=symbols[idx], s=sz[idx], c=fc[idx], edgecolors=ec[idx], cmap='bwr',label=labels[idx])\n",
    "\n",
    "    #axes0.legend()#bbox_to_anchor=(1.05, 1), loc=2, borderaxespad=0.)\n",
    "\n",
    "    #ax.set_xlim([0,80])\n",
    "    #axes0.set_ylim([0,0.30])\n",
    "    ax.set_xlabel(x)\n",
    "    ax.set_ylabel(y)"
   ]
  },
  {
   "cell_type": "code",
   "execution_count": null,
   "metadata": {},
   "outputs": [],
   "source": []
  }
 ],
 "metadata": {
  "hide_input": false,
  "kernelspec": {
   "display_name": "Python 3",
   "language": "python",
   "name": "python3"
  },
  "language_info": {
   "codemirror_mode": {
    "name": "ipython",
    "version": 3
   },
   "file_extension": ".py",
   "mimetype": "text/x-python",
   "name": "python",
   "nbconvert_exporter": "python",
   "pygments_lexer": "ipython3",
   "version": "3.6.6"
  }
 },
 "nbformat": 4,
 "nbformat_minor": 2
}
